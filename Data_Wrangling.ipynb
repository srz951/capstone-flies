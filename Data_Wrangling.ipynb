{
 "cells": [
  {
   "cell_type": "code",
   "execution_count": null,
   "id": "7aaf73b9",
   "metadata": {},
   "outputs": [],
   "source": [
    "#Importing pandas, matplotlib.pyplot, and seaborn\n",
    "\n",
    "import pandas as pd\n",
    "import matplotlib.pyplot as plt\n",
    "import seaborn as snsc\n",
    "import os\n"
   ]
  },
  {
   "cell_type": "code",
   "execution_count": null,
   "id": "04807a52",
   "metadata": {},
   "outputs": [],
   "source": [
    "# Loading the data\n",
    "#station_data = pd.read_csv('../Capstone Project/stations.csv')\n",
    "#period_of_record_data = pd.read_csv('../Capstone Project/period_of_record.csv')\n",
    "lab_results_data = pd.read_csv('../Capstone Project/lab_results.csv')cc\n",
    "field_results_data = pd.read_csv('../Capstone Project/field_results.csv',low_memory=False)"
   ]
  },
  {
   "cell_type": "code",
   "execution_count": null,
   "id": "9128e1d8",
   "metadata": {},
   "outputs": [],
   "source": [
    "field_results_data.head()"
   ]
  },
  {
   "cell_type": "code",
   "execution_count": null,
   "id": "7b147968",
   "metadata": {
    "scrolled": true
   },
   "outputs": [],
   "source": [
    "# Summary of the stations data\n",
    "field_results_data.info()"
   ]
  },
  {
   "cell_type": "code",
   "execution_count": null,
   "id": "d8852ee4",
   "metadata": {
    "scrolled": true
   },
   "outputs": [],
   "source": [
    "field_Dissolved_Oxygen_0 = field_results_data[field_results_data[\"parameter\"]==\"DissolvedOxygen\"]\n",
    "field_Dissolved_Oxygen_1 = field_Dissolved_Oxygen_0[field_Dissolved_Oxygen_0[\"fdr_result\"]>0]\n",
    "field_Dissolved_Oxygen = field_Dissolved_Oxygen_1[field_Dissolved_Oxygen_1[\"fdr_result\"]<15]\n",
    "field_Dissolved_Oxygen.rename(columns={'fdr_result':'Dissolved_Oxygen'}, inplace=True)"
   ]
  },
  {
   "cell_type": "code",
   "execution_count": null,
   "id": "2306e010",
   "metadata": {},
   "outputs": [],
   "source": [
    "field_pH_0 = field_results_data[field_results_data[\"parameter\"]==\"pH\"]\n",
    "field_pH_1 = field_pH_0[field_pH_0[\"fdr_result\"]>0]\n",
    "field_pH= field_pH_1[field_pH_1[\"fdr_result\"]<14]\n",
    "field_pH.rename(columns={'fdr_result':'pH'}, inplace=True)"
   ]
  },
  {
   "cell_type": "code",
   "execution_count": null,
   "id": "cc6b75f9",
   "metadata": {},
   "outputs": [],
   "source": [
    "field_Electrical_Conductance_0 = field_results_data[field_results_data[\"parameter\"]==\"ElectricalConductance\"]\n",
    "field_Electrical_Conductance_1 = field_Electrical_Conductance_0[field_Electrical_Conductance_0[\"fdr_result\"]>0]\n",
    "field_Electrical_Conductance = field_Electrical_Conductance_1[field_Electrical_Conductance_1[\"fdr_result\"]<500]\n",
    "field_Electrical_Conductance.rename(columns={'fdr_result':'Electrical_Conductance'}, inplace=True)"
   ]
  },
  {
   "cell_type": "code",
   "execution_count": null,
   "id": "75ac9feb",
   "metadata": {},
   "outputs": [],
   "source": [
    "field_Water_Temperature_0 = field_results_data[field_results_data[\"parameter\"]==\"WaterTemperature\"]\n",
    "field_Water_Temperature_1 = field_Water_Temperature_0[field_Water_Temperature_0[\"fdr_result\"]>0]\n",
    "field_Water_Temperature = field_Water_Temperature_1[field_Water_Temperature_1[\"fdr_result\"]<100]\n",
    "field_Water_Temperature.rename(columns={'fdr_result':'Water_Temperature'}, inplace=True)"
   ]
  },
  {
   "cell_type": "code",
   "execution_count": null,
   "id": "651a1176",
   "metadata": {},
   "outputs": [],
   "source": [
    "field_Dissolved_Oxygen[\"Dissolved_Oxygen\"].describe()"
   ]
  },
  {
   "cell_type": "code",
   "execution_count": null,
   "id": "1f026798",
   "metadata": {},
   "outputs": [],
   "source": [
    "field_pH[\"pH\"].describe()"
   ]
  },
  {
   "cell_type": "code",
   "execution_count": null,
   "id": "c0e36f2a",
   "metadata": {},
   "outputs": [],
   "source": [
    "field_Electrical_Conductance[\"Electrical_Conductance\"].describe().T"
   ]
  },
  {
   "cell_type": "code",
   "execution_count": null,
   "id": "776edad2",
   "metadata": {},
   "outputs": [],
   "source": [
    "field_Water_Temperature[\"Water_Temperature\"].describe().T"
   ]
  },
  {
   "cell_type": "code",
   "execution_count": null,
   "id": "db30f56c",
   "metadata": {},
   "outputs": [],
   "source": [
    "# Counting the missing values\n",
    "missing =  pd.concat([field_Dissolved_Oxygen.isnull().sum(), 100 * field_Dissolved_Oxygen.isnull().mean()], axis=1)\n",
    "missing.columns=['count', '%']\n",
    "missing.sort_values(by='count', ascending=False)"
   ]
  },
  {
   "cell_type": "code",
   "execution_count": null,
   "id": "46fc478e",
   "metadata": {},
   "outputs": [],
   "source": [
    "# Counting the missing values\n",
    "missing =  pd.concat([field_pH.isnull().sum(), 100 * field_pH.isnull().mean()], axis=1)\n",
    "missing.columns=['count', '%']\n",
    "missing.sort_values(by='count', ascending=False)"
   ]
  },
  {
   "cell_type": "code",
   "execution_count": null,
   "id": "78ec0756",
   "metadata": {},
   "outputs": [],
   "source": [
    "# Counting the missing values\n",
    "missing =  pd.concat([field_Electrical_Conductance.isnull().sum(), 100 * field_Electrical_Conductance.isnull().mean()], axis=1)\n",
    "missing.columns=['count', '%']\n",
    "missing.sort_values(by='count', ascending=False)\n",
    "\n"
   ]
  },
  {
   "cell_type": "code",
   "execution_count": null,
   "id": "8a44fedc",
   "metadata": {},
   "outputs": [],
   "source": [
    "field_results_data['county_name'].value_counts()"
   ]
  },
  {
   "cell_type": "code",
   "execution_count": null,
   "id": "d4e0fa1c",
   "metadata": {},
   "outputs": [],
   "source": [
    "(field_results_data[field_results_data.full_station_name != field_results_data.county_name]\n",
    " .groupby('county_name')['full_station_name']\n",
    " .value_counts())"
   ]
  },
  {
   "cell_type": "code",
   "execution_count": null,
   "id": "43c27356",
   "metadata": {},
   "outputs": [],
   "source": [
    "field_results_data[['full_station_name','county_name']].nunique()"
   ]
  },
  {
   "cell_type": "code",
   "execution_count": null,
   "id": "88eb4792",
   "metadata": {},
   "outputs": [],
   "source": [
    "# Removing rows with the lab result missed\n",
    "missing_field_results = field_results_data[['fdr_result']].isnull().sum(axis=1)\n",
    "missing_field_results.value_counts()/len(missing_field_results) * 100\n",
    "field_results_data= field_results_data[missing_field_results != 1]"
   ]
  },
  {
   "cell_type": "code",
   "execution_count": null,
   "id": "2ee810cd",
   "metadata": {},
   "outputs": [],
   "source": [
    "# Counting the missing values\n",
    "missing =  pd.concat([field_results_data.isnull().sum(), 100 * field_results_data.isnull().mean()], axis=1)\n",
    "missing.columns=['count', '%']\n",
    "missing.sort_values(by='count', ascending=False)"
   ]
  },
  {
   "cell_type": "code",
   "execution_count": null,
   "id": "89bd012f",
   "metadata": {},
   "outputs": [],
   "source": [
    "ax=field_results_data.county_name.value_counts().plot(kind='barh',figsize=(12,12))\n",
    "ax.set_title('County')\n",
    "ax.set_xlabel('Count')"
   ]
  },
  {
   "cell_type": "code",
   "execution_count": null,
   "id": "e35f50d6",
   "metadata": {},
   "outputs": [],
   "source": [
    "field_rsults_pH_mean= field_pH.groupby('county_name')[['pH']].mean()\n",
    "field_rsults_do_mean= field_Dissolved_Oxygen .groupby('county_name')[['Dissolved_Oxygen']].mean()\n",
    "field_results_ec_mean= field_Electrical_Conductance.groupby('county_name')[['Electrical_Conductance']].mean()\n",
    "field_results_tem_mean= field_Water_Temperature.groupby('county_name')[['Water_Temperature']].mean()"
   ]
  },
  {
   "cell_type": "code",
   "execution_count": null,
   "id": "1eff7902",
   "metadata": {},
   "outputs": [],
   "source": [
    "(field_rsults_pH_mean.reindex(index=field_rsults_pH_mean.mean(axis=1)\n",
    "                              .sort_values(ascending=False)\n",
    "                              .index).plot(kind='barh', figsize=(10, 10), title='Average pH by County'))\n",
    "plt.xlabel('pH');\n",
    " \n",
    " "
   ]
  },
  {
   "cell_type": "code",
   "execution_count": null,
   "id": "3253dba3",
   "metadata": {},
   "outputs": [],
   "source": [
    "(field_rsults_do_mean.reindex(index=field_rsults_do_mean.mean(axis=1)\n",
    "                              .sort_values(ascending=False)\n",
    "                              .index).plot(kind='barh', figsize=(10, 10), title='Average Dissolved Oxigen'))\n",
    "plt.xlabel('Oxigen Concentration');"
   ]
  },
  {
   "cell_type": "code",
   "execution_count": null,
   "id": "00b8a960",
   "metadata": {},
   "outputs": [],
   "source": [
    "(field_results_ec_mean.reindex(index=field_results_ec_mean.mean(axis=1)\n",
    "                              .sort_values(ascending=False)\n",
    "                              .index).plot(kind='barh', figsize=(10, 10), title='Average Electrical Conductivity'))\n",
    "plt.xlabel('Electrical Conductivity');"
   ]
  },
  {
   "cell_type": "code",
   "execution_count": null,
   "id": "a78ccc00",
   "metadata": {
    "scrolled": false
   },
   "outputs": [],
   "source": [
    "(field_results_tem_mean.reindex(index=field_results_tem_mean.mean(axis=1)\n",
    "                              .sort_values(ascending=False)\n",
    "                              .index).plot(kind='barh', figsize=(10, 10), title='Average Temperature'))\n",
    "plt.xlabel('Temperature F');"
   ]
  },
  {
   "cell_type": "code",
   "execution_count": null,
   "id": "f63de177",
   "metadata": {},
   "outputs": [],
   "source": [
    "ph=pd.melt(field_pH[['county_name','pH']],\n",
    "          id_vars= 'county_name', \n",
    "                        var_name='parameter', \n",
    "                        value_vars=['pH'], \n",
    "                        value_name='pH')\n",
    "ph.head()"
   ]
  },
  {
   "cell_type": "code",
   "execution_count": null,
   "id": "2988d923",
   "metadata": {},
   "outputs": [],
   "source": [
    "plt.subplots(figsize=(12, 8))\n",
    "sns.boxplot(x='county_name', y='pH', hue='parameter', data=ph)\n",
    "plt.xticks(rotation='vertical')\n",
    "plt.ylabel('pH')\n",
    "plt.xlabel('County');"
   ]
  },
  {
   "cell_type": "code",
   "execution_count": null,
   "id": "41f0be7b",
   "metadata": {},
   "outputs": [],
   "source": [
    "do=pd.melt(field_Dissolved_Oxygen[['county_name','Dissolved_Oxygen']],\n",
    "          id_vars= 'county_name', \n",
    "                        var_name='parameter', \n",
    "                        value_vars=['Dissolved_Oxygen'], \n",
    "                        value_name='Dissolve O')\n",
    "do.head()"
   ]
  },
  {
   "cell_type": "code",
   "execution_count": null,
   "id": "c8bd7699",
   "metadata": {
    "scrolled": false
   },
   "outputs": [],
   "source": [
    "plt.subplots(figsize=(12, 8))\n",
    "sns.boxplot(x='county_name', y='Dissolve O', hue='parameter', data=do)\n",
    "plt.xticks(rotation='vertical')\n",
    "plt.ylabel('Oxigen Concentration')\n",
    "plt.xlabel('County');"
   ]
  },
  {
   "cell_type": "code",
   "execution_count": null,
   "id": "5652eb3e",
   "metadata": {
    "scrolled": true
   },
   "outputs": [],
   "source": [
    "#df=pd.concat([field_Dissolved_Oxygen, field_pH,field_Electrical_Conductance,field_Water_Temperature], axis=0, ignore_index=True)\n",
    "\n",
    "merged_df1 = pd.merge(field_Dissolved_Oxygen, field_pH, on='sample_code', how='outer', suffixes=('_Dissolved_Oxygen', '_pH'))\n",
    "merged_df2 = pd.merge(merged_df1, field_Electrical_Conductance, on='sample_code', how='outer', suffixes=('', '_Electrical_Conductance'))\n",
    "df = pd.merge(merged_df2, field_Water_Temperature, on='sample_code', how='outer', suffixes=('', '_Water_Temperature'))\n"
   ]
  },
  {
   "cell_type": "code",
   "execution_count": null,
   "id": "4888356f",
   "metadata": {},
   "outputs": [],
   "source": [
    "#df=pd.concat([field_Dissolved_Oxygen, field_pH], join=\"inner\")"
   ]
  },
  {
   "cell_type": "code",
   "execution_count": null,
   "id": "3b94212e",
   "metadata": {},
   "outputs": [],
   "source": [
    "df.hist(figsize = (15,10))\n",
    "plt.subplots_adjust(hspace=0.5);"
   ]
  },
  {
   "cell_type": "code",
   "execution_count": null,
   "id": "84ccb7b3",
   "metadata": {},
   "outputs": [],
   "source": [
    "df.head()"
   ]
  },
  {
   "cell_type": "code",
   "execution_count": null,
   "id": "79638248",
   "metadata": {},
   "outputs": [],
   "source": [
    "len(field_Dissolved_Oxygen)"
   ]
  },
  {
   "cell_type": "code",
   "execution_count": null,
   "id": "ca7762be",
   "metadata": {},
   "outputs": [],
   "source": [
    "print(len(field_pH))"
   ]
  },
  {
   "cell_type": "code",
   "execution_count": null,
   "id": "b6bb7dc0",
   "metadata": {},
   "outputs": [],
   "source": [
    "field_pH.shape"
   ]
  },
  {
   "cell_type": "code",
   "execution_count": null,
   "id": "57f5e9fd",
   "metadata": {},
   "outputs": [],
   "source": [
    "field_Dissolved_Oxygen.shape"
   ]
  },
  {
   "cell_type": "code",
   "execution_count": null,
   "id": "70e9dd8b",
   "metadata": {},
   "outputs": [],
   "source": [
    "df.to_csv('capstone_joined_df.csv', index=False)"
   ]
  }
 ],
 "metadata": {
  "kernelspec": {
   "display_name": "Python 3 (ipykernel)",
   "language": "python",
   "name": "python3"
  },
  "language_info": {
   "codemirror_mode": {
    "name": "ipython",
    "version": 3
   },
   "file_extension": ".py",
   "mimetype": "text/x-python",
   "name": "python",
   "nbconvert_exporter": "python",
   "pygments_lexer": "ipython3",
   "version": "3.11.4"
  }
 },
 "nbformat": 4,
 "nbformat_minor": 5
}
